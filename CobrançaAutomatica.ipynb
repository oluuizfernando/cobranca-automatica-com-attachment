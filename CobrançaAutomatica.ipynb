{
 "cells": [
  {
   "cell_type": "code",
   "execution_count": 3,
   "metadata": {},
   "outputs": [],
   "source": [
    "import pandas as pd\n",
    "import datetime as dt\n",
    "import smtplib\n",
    "import email.message\n",
    "import pdf_mail"
   ]
  },
  {
   "cell_type": "code",
   "execution_count": 4,
   "metadata": {},
   "outputs": [],
   "source": [
    "#!pip install pdf-mail"
   ]
  },
  {
   "cell_type": "markdown",
   "metadata": {},
   "source": [
    "# Lendo arquivo excel"
   ]
  },
  {
   "cell_type": "code",
   "execution_count": 5,
   "metadata": {},
   "outputs": [],
   "source": [
    "tabela = pd.read_excel('devedores.xlsx')"
   ]
  },
  {
   "cell_type": "code",
   "execution_count": 6,
   "metadata": {},
   "outputs": [
    {
     "data": {
      "text/html": [
       "<div>\n",
       "<style scoped>\n",
       "    .dataframe tbody tr th:only-of-type {\n",
       "        vertical-align: middle;\n",
       "    }\n",
       "\n",
       "    .dataframe tbody tr th {\n",
       "        vertical-align: top;\n",
       "    }\n",
       "\n",
       "    .dataframe thead th {\n",
       "        text-align: right;\n",
       "    }\n",
       "</style>\n",
       "<table border=\"1\" class=\"dataframe\">\n",
       "  <thead>\n",
       "    <tr style=\"text-align: right;\">\n",
       "      <th></th>\n",
       "      <th>CPF</th>\n",
       "      <th>Valor_em_aberto</th>\n",
       "      <th>Data_Prevista</th>\n",
       "      <th>Status</th>\n",
       "      <th>Email</th>\n",
       "      <th>NF</th>\n",
       "    </tr>\n",
       "  </thead>\n",
       "  <tbody>\n",
       "    <tr>\n",
       "      <th>0</th>\n",
       "      <td>10978459522</td>\n",
       "      <td>500</td>\n",
       "      <td>2023-11-27</td>\n",
       "      <td>Em aberto</td>\n",
       "      <td>fake_email1@gmail.com</td>\n",
       "      <td>197</td>\n",
       "    </tr>\n",
       "    <tr>\n",
       "      <th>1</th>\n",
       "      <td>12564375375</td>\n",
       "      <td>275</td>\n",
       "      <td>2023-12-31</td>\n",
       "      <td>Pago</td>\n",
       "      <td>fake_email2@gmail.com</td>\n",
       "      <td>128</td>\n",
       "    </tr>\n",
       "    <tr>\n",
       "      <th>2</th>\n",
       "      <td>24864692469</td>\n",
       "      <td>8000</td>\n",
       "      <td>2023-10-28</td>\n",
       "      <td>Em aberto</td>\n",
       "      <td>fake_email3@gmail.com</td>\n",
       "      <td>198</td>\n",
       "    </tr>\n",
       "    <tr>\n",
       "      <th>3</th>\n",
       "      <td>19351750353</td>\n",
       "      <td>524</td>\n",
       "      <td>2023-07-12</td>\n",
       "      <td>Em aberto</td>\n",
       "      <td>fake_email4@gmail.com</td>\n",
       "      <td>129</td>\n",
       "    </tr>\n",
       "    <tr>\n",
       "      <th>4</th>\n",
       "      <td>46247357486</td>\n",
       "      <td>9240</td>\n",
       "      <td>2023-10-27</td>\n",
       "      <td>Em aberto</td>\n",
       "      <td>fake_email5@gmail.com</td>\n",
       "      <td>131</td>\n",
       "    </tr>\n",
       "    <tr>\n",
       "      <th>5</th>\n",
       "      <td>58135180381</td>\n",
       "      <td>7777</td>\n",
       "      <td>2022-06-05</td>\n",
       "      <td>Em aberto</td>\n",
       "      <td>fake_email6@gmail.com</td>\n",
       "      <td>199</td>\n",
       "    </tr>\n",
       "  </tbody>\n",
       "</table>\n",
       "</div>"
      ],
      "text/plain": [
       "           CPF  Valor_em_aberto Data_Prevista     Status  \\\n",
       "0  10978459522              500    2023-11-27  Em aberto   \n",
       "1  12564375375              275    2023-12-31       Pago   \n",
       "2  24864692469             8000    2023-10-28  Em aberto   \n",
       "3  19351750353              524    2023-07-12  Em aberto   \n",
       "4  46247357486             9240    2023-10-27  Em aberto   \n",
       "5  58135180381             7777    2022-06-05  Em aberto   \n",
       "\n",
       "                   Email   NF  \n",
       "0  fake_email1@gmail.com  197  \n",
       "1  fake_email2@gmail.com  128  \n",
       "2  fake_email3@gmail.com  198  \n",
       "3  fake_email4@gmail.com  129  \n",
       "4  fake_email5@gmail.com  131  \n",
       "5  fake_email6@gmail.com  199  "
      ]
     },
     "metadata": {},
     "output_type": "display_data"
    }
   ],
   "source": [
    "display(tabela)"
   ]
  },
  {
   "cell_type": "code",
   "execution_count": 7,
   "metadata": {},
   "outputs": [
    {
     "name": "stdout",
     "output_type": "stream",
     "text": [
      "<class 'pandas.core.frame.DataFrame'>\n",
      "RangeIndex: 6 entries, 0 to 5\n",
      "Data columns (total 6 columns):\n",
      " #   Column           Non-Null Count  Dtype         \n",
      "---  ------           --------------  -----         \n",
      " 0   CPF              6 non-null      int64         \n",
      " 1   Valor_em_aberto  6 non-null      int64         \n",
      " 2   Data_Prevista    6 non-null      datetime64[ns]\n",
      " 3   Status           6 non-null      object        \n",
      " 4   Email            6 non-null      object        \n",
      " 5   NF               6 non-null      int64         \n",
      "dtypes: datetime64[ns](1), int64(3), object(2)\n",
      "memory usage: 416.0+ bytes\n"
     ]
    }
   ],
   "source": [
    "tabela.info()"
   ]
  },
  {
   "cell_type": "markdown",
   "metadata": {},
   "source": [
    "# Verificando data de hoje"
   ]
  },
  {
   "cell_type": "code",
   "execution_count": 8,
   "metadata": {},
   "outputs": [],
   "source": [
    "hoje = dt.datetime.now()"
   ]
  },
  {
   "cell_type": "code",
   "execution_count": 9,
   "metadata": {},
   "outputs": [
    {
     "name": "stdout",
     "output_type": "stream",
     "text": [
      "2023-10-29 15:02:13.216954\n"
     ]
    }
   ],
   "source": [
    "print(hoje)"
   ]
  },
  {
   "cell_type": "markdown",
   "metadata": {},
   "source": [
    "# Coletando apenas os dados de clientes devendo"
   ]
  },
  {
   "cell_type": "code",
   "execution_count": 10,
   "metadata": {},
   "outputs": [],
   "source": [
    "tabela_devedores = tabela.loc[tabela['Status'] == 'Em aberto']"
   ]
  },
  {
   "cell_type": "code",
   "execution_count": 11,
   "metadata": {},
   "outputs": [
    {
     "data": {
      "text/html": [
       "<div>\n",
       "<style scoped>\n",
       "    .dataframe tbody tr th:only-of-type {\n",
       "        vertical-align: middle;\n",
       "    }\n",
       "\n",
       "    .dataframe tbody tr th {\n",
       "        vertical-align: top;\n",
       "    }\n",
       "\n",
       "    .dataframe thead th {\n",
       "        text-align: right;\n",
       "    }\n",
       "</style>\n",
       "<table border=\"1\" class=\"dataframe\">\n",
       "  <thead>\n",
       "    <tr style=\"text-align: right;\">\n",
       "      <th></th>\n",
       "      <th>CPF</th>\n",
       "      <th>Valor_em_aberto</th>\n",
       "      <th>Data_Prevista</th>\n",
       "      <th>Status</th>\n",
       "      <th>Email</th>\n",
       "      <th>NF</th>\n",
       "    </tr>\n",
       "  </thead>\n",
       "  <tbody>\n",
       "    <tr>\n",
       "      <th>0</th>\n",
       "      <td>10978459522</td>\n",
       "      <td>500</td>\n",
       "      <td>2023-11-27</td>\n",
       "      <td>Em aberto</td>\n",
       "      <td>fake_email1@gmail.com</td>\n",
       "      <td>197</td>\n",
       "    </tr>\n",
       "    <tr>\n",
       "      <th>2</th>\n",
       "      <td>24864692469</td>\n",
       "      <td>8000</td>\n",
       "      <td>2023-10-28</td>\n",
       "      <td>Em aberto</td>\n",
       "      <td>fake_email3@gmail.com</td>\n",
       "      <td>198</td>\n",
       "    </tr>\n",
       "    <tr>\n",
       "      <th>3</th>\n",
       "      <td>19351750353</td>\n",
       "      <td>524</td>\n",
       "      <td>2023-07-12</td>\n",
       "      <td>Em aberto</td>\n",
       "      <td>fake_email4@gmail.com</td>\n",
       "      <td>129</td>\n",
       "    </tr>\n",
       "    <tr>\n",
       "      <th>4</th>\n",
       "      <td>46247357486</td>\n",
       "      <td>9240</td>\n",
       "      <td>2023-10-27</td>\n",
       "      <td>Em aberto</td>\n",
       "      <td>fake_email5@gmail.com</td>\n",
       "      <td>131</td>\n",
       "    </tr>\n",
       "    <tr>\n",
       "      <th>5</th>\n",
       "      <td>58135180381</td>\n",
       "      <td>7777</td>\n",
       "      <td>2022-06-05</td>\n",
       "      <td>Em aberto</td>\n",
       "      <td>fake_email6@gmail.com</td>\n",
       "      <td>199</td>\n",
       "    </tr>\n",
       "  </tbody>\n",
       "</table>\n",
       "</div>"
      ],
      "text/plain": [
       "           CPF  Valor_em_aberto Data_Prevista     Status  \\\n",
       "0  10978459522              500    2023-11-27  Em aberto   \n",
       "2  24864692469             8000    2023-10-28  Em aberto   \n",
       "3  19351750353              524    2023-07-12  Em aberto   \n",
       "4  46247357486             9240    2023-10-27  Em aberto   \n",
       "5  58135180381             7777    2022-06-05  Em aberto   \n",
       "\n",
       "                   Email   NF  \n",
       "0  fake_email1@gmail.com  197  \n",
       "2  fake_email3@gmail.com  198  \n",
       "3  fake_email4@gmail.com  129  \n",
       "4  fake_email5@gmail.com  131  \n",
       "5  fake_email6@gmail.com  199  "
      ]
     },
     "metadata": {},
     "output_type": "display_data"
    }
   ],
   "source": [
    "display(tabela_devedores)"
   ]
  },
  {
   "cell_type": "code",
   "execution_count": 12,
   "metadata": {},
   "outputs": [],
   "source": [
    "pd.to_datetime(tabela_devedores['Data_Prevista'])\n",
    "tabela_devedores['Valor_em_aberto'] = tabela_devedores['Valor_em_aberto'].astype('float64')"
   ]
  },
  {
   "cell_type": "code",
   "execution_count": 13,
   "metadata": {},
   "outputs": [
    {
     "name": "stdout",
     "output_type": "stream",
     "text": [
      "<class 'pandas.core.frame.DataFrame'>\n",
      "Int64Index: 5 entries, 0 to 5\n",
      "Data columns (total 6 columns):\n",
      " #   Column           Non-Null Count  Dtype         \n",
      "---  ------           --------------  -----         \n",
      " 0   CPF              5 non-null      int64         \n",
      " 1   Valor_em_aberto  5 non-null      float64       \n",
      " 2   Data_Prevista    5 non-null      datetime64[ns]\n",
      " 3   Status           5 non-null      object        \n",
      " 4   Email            5 non-null      object        \n",
      " 5   NF               5 non-null      int64         \n",
      "dtypes: datetime64[ns](1), float64(1), int64(2), object(2)\n",
      "memory usage: 280.0+ bytes\n"
     ]
    }
   ],
   "source": [
    "tabela_devedores.info()"
   ]
  },
  {
   "cell_type": "code",
   "execution_count": 14,
   "metadata": {},
   "outputs": [],
   "source": [
    "tabela_devedores = tabela_devedores.loc[tabela_devedores['Data_Prevista'] < hoje]"
   ]
  },
  {
   "cell_type": "code",
   "execution_count": 15,
   "metadata": {},
   "outputs": [
    {
     "data": {
      "text/html": [
       "<div>\n",
       "<style scoped>\n",
       "    .dataframe tbody tr th:only-of-type {\n",
       "        vertical-align: middle;\n",
       "    }\n",
       "\n",
       "    .dataframe tbody tr th {\n",
       "        vertical-align: top;\n",
       "    }\n",
       "\n",
       "    .dataframe thead th {\n",
       "        text-align: right;\n",
       "    }\n",
       "</style>\n",
       "<table border=\"1\" class=\"dataframe\">\n",
       "  <thead>\n",
       "    <tr style=\"text-align: right;\">\n",
       "      <th></th>\n",
       "      <th>CPF</th>\n",
       "      <th>Valor_em_aberto</th>\n",
       "      <th>Data_Prevista</th>\n",
       "      <th>Status</th>\n",
       "      <th>Email</th>\n",
       "      <th>NF</th>\n",
       "    </tr>\n",
       "  </thead>\n",
       "  <tbody>\n",
       "    <tr>\n",
       "      <th>2</th>\n",
       "      <td>24864692469</td>\n",
       "      <td>8000.0</td>\n",
       "      <td>2023-10-28</td>\n",
       "      <td>Em aberto</td>\n",
       "      <td>fake_email3@gmail.com</td>\n",
       "      <td>198</td>\n",
       "    </tr>\n",
       "    <tr>\n",
       "      <th>3</th>\n",
       "      <td>19351750353</td>\n",
       "      <td>524.0</td>\n",
       "      <td>2023-07-12</td>\n",
       "      <td>Em aberto</td>\n",
       "      <td>fake_email4@gmail.com</td>\n",
       "      <td>129</td>\n",
       "    </tr>\n",
       "    <tr>\n",
       "      <th>4</th>\n",
       "      <td>46247357486</td>\n",
       "      <td>9240.0</td>\n",
       "      <td>2023-10-27</td>\n",
       "      <td>Em aberto</td>\n",
       "      <td>fake_email5@gmail.com</td>\n",
       "      <td>131</td>\n",
       "    </tr>\n",
       "    <tr>\n",
       "      <th>5</th>\n",
       "      <td>58135180381</td>\n",
       "      <td>7777.0</td>\n",
       "      <td>2022-06-05</td>\n",
       "      <td>Em aberto</td>\n",
       "      <td>fake_email6@gmail.com</td>\n",
       "      <td>199</td>\n",
       "    </tr>\n",
       "  </tbody>\n",
       "</table>\n",
       "</div>"
      ],
      "text/plain": [
       "           CPF  Valor_em_aberto Data_Prevista     Status  \\\n",
       "2  24864692469           8000.0    2023-10-28  Em aberto   \n",
       "3  19351750353            524.0    2023-07-12  Em aberto   \n",
       "4  46247357486           9240.0    2023-10-27  Em aberto   \n",
       "5  58135180381           7777.0    2022-06-05  Em aberto   \n",
       "\n",
       "                   Email   NF  \n",
       "2  fake_email3@gmail.com  198  \n",
       "3  fake_email4@gmail.com  129  \n",
       "4  fake_email5@gmail.com  131  \n",
       "5  fake_email6@gmail.com  199  "
      ]
     },
     "execution_count": 15,
     "metadata": {},
     "output_type": "execute_result"
    }
   ],
   "source": [
    "tabela_devedores"
   ]
  },
  {
   "cell_type": "markdown",
   "metadata": {},
   "source": [
    "# Enviar e-mail"
   ]
  },
  {
   "cell_type": "code",
   "execution_count": 16,
   "metadata": {},
   "outputs": [],
   "source": [
    "dados = tabela_devedores[['Valor_em_aberto', 'Data_Prevista', 'Email', 'NF']].values.tolist()"
   ]
  },
  {
   "cell_type": "code",
   "execution_count": null,
   "metadata": {},
   "outputs": [],
   "source": [
    "password = 'GMAIL PASSWORD HERE'\n",
    "remetente = 'EMAIL_HERE'\n",
    "for dado in dados:\n",
    "    valor = dado[0]\n",
    "    prazo = dado[1]\n",
    "    prazo = prazo.strftime('%d/%m/%Y')\n",
    "    destinatario = dado[2]\n",
    "    nf = dado[3]\n",
    "\n",
    "    corpo_email = f\"\"\"\n",
    "    Verificamos um atraso no pagamento referente a NF {nf}, previsto para {prazo}, no valor de R${valor:.2f}\n",
    "    \"\"\"\n",
    "\n",
    "    k = pdf_mail.sendpdf(remetente, destinatario, password, 'Débito em atraso!', corpo_email, 'nota_fiscal.pdf', 'C:/Users/eului/OneDrive/Área de Trabalho/cobranca')\n",
    "    k.email_send()\n",
    "    \n",
    "    print('Cobrança enviada com sucesso!')"
   ]
  }
 ],
 "metadata": {
  "kernelspec": {
   "display_name": "base",
   "language": "python",
   "name": "python3"
  },
  "language_info": {
   "codemirror_mode": {
    "name": "ipython",
    "version": 3
   },
   "file_extension": ".py",
   "mimetype": "text/x-python",
   "name": "python",
   "nbconvert_exporter": "python",
   "pygments_lexer": "ipython3",
   "version": "3.10.9"
  }
 },
 "nbformat": 4,
 "nbformat_minor": 2
}
